{
 "cells": [
  {
   "cell_type": "markdown",
   "metadata": {},
   "source": [
    "Implement a function that calculates the mean of a list of values. Only use built-in python functions and no external packages. Write a version that…\n",
    "\n",
    "- only uses built-in functions but no for loop\n",
    "- uses a single for loop\n",
    "- uses a lambda function\n",
    "\n",
    "Check your solution with the pandas package:\n"
   ]
  },
  {
   "cell_type": "code",
   "execution_count": 4,
   "metadata": {},
   "outputs": [],
   "source": [
    "import pandas as pd"
   ]
  },
  {
   "cell_type": "code",
   "execution_count": 6,
   "metadata": {},
   "outputs": [],
   "source": [
    "x = [2, 1, 1, 1, 1]"
   ]
  },
  {
   "cell_type": "markdown",
   "metadata": {},
   "source": [
    "#### only built-in functions but no for loop "
   ]
  },
  {
   "cell_type": "code",
   "execution_count": 14,
   "metadata": {},
   "outputs": [],
   "source": [
    "def mean(x):\n",
    "    return sum(x)/len(x) \n",
    "\n",
    "result = mean(x)\n",
    "expected = pd.Series(x).mean()\n",
    "assert result == expected"
   ]
  },
  {
   "cell_type": "markdown",
   "metadata": {},
   "source": [
    "#### uses a single loop"
   ]
  },
  {
   "cell_type": "code",
   "execution_count": 17,
   "metadata": {},
   "outputs": [],
   "source": [
    "def mean(x):\n",
    "    sum = 0\n",
    "    number_of_elements = 0\n",
    "    for xi in x:\n",
    "        sum += xi\n",
    "        number_of_elements += 1\n",
    "    return sum/number_of_elements\n",
    "\n",
    "result = mean(x)\n",
    "expected = pd.Series(x).mean()\n",
    "\n",
    "assert result == expected\n"
   ]
  },
  {
   "cell_type": "markdown",
   "metadata": {},
   "source": [
    "#### using a lamda function"
   ]
  },
  {
   "cell_type": "code",
   "execution_count": 20,
   "metadata": {},
   "outputs": [],
   "source": [
    "mean = lambda x : sum(x)/len(x)\n",
    "\n",
    "result = mean(x)\n",
    "expected = pd.Series(x).mean()\n",
    "\n",
    "assert result == expected\n"
   ]
  },
  {
   "cell_type": "code",
   "execution_count": null,
   "metadata": {},
   "outputs": [],
   "source": []
  }
 ],
 "metadata": {
  "kernelspec": {
   "display_name": "Python 3",
   "language": "python",
   "name": "python3"
  },
  "language_info": {
   "codemirror_mode": {
    "name": "ipython",
    "version": 3
   },
   "file_extension": ".py",
   "mimetype": "text/x-python",
   "name": "python",
   "nbconvert_exporter": "python",
   "pygments_lexer": "ipython3",
   "version": "3.8.3"
  }
 },
 "nbformat": 4,
 "nbformat_minor": 4
}

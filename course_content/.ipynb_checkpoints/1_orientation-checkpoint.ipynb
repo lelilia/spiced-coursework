{
 "cells": [
  {
   "cell_type": "markdown",
   "metadata": {},
   "source": [
    "# Spiced Data Science Bootcamp\n",
    "## Day 1\n",
    "### 1. Orientation\n"
   ]
  },
  {
   "cell_type": "markdown",
   "metadata": {},
   "source": [
    "#### The Fizz-Buzz Test"
   ]
  },
  {
   "cell_type": "code",
   "execution_count": 24,
   "metadata": {},
   "outputs": [],
   "source": [
    "def fizz_buzz_my_solution(n):\n",
    "    for i in range(1, n + 1):\n",
    "        if i % 15 == 0:\n",
    "            print(\"FizzBuzz\")\n",
    "        elif i % 3 == 0:\n",
    "            print(\"Fizz\")\n",
    "        elif i % 5 == 0:\n",
    "            print(\"Buzz\")\n",
    "        else:\n",
    "            print(i)"
   ]
  },
  {
   "cell_type": "code",
   "execution_count": 18,
   "metadata": {},
   "outputs": [
    {
     "name": "stdout",
     "output_type": "stream",
     "text": [
      "1\n",
      "2\n",
      "Fizz\n",
      "4\n",
      "Buzz\n",
      "Fizz\n",
      "7\n",
      "8\n",
      "Fizz\n",
      "Buzz\n",
      "11\n",
      "Fizz\n",
      "13\n",
      "14\n",
      "FizzBuzz\n",
      "16\n",
      "17\n",
      "Fizz\n",
      "19\n",
      "Buzz\n",
      "Fizz\n",
      "22\n",
      "23\n",
      "Fizz\n",
      "Buzz\n",
      "26\n",
      "Fizz\n",
      "28\n",
      "29\n",
      "FizzBuzz\n",
      "31\n",
      "32\n",
      "Fizz\n",
      "34\n",
      "Buzz\n",
      "Fizz\n",
      "37\n",
      "38\n",
      "Fizz\n",
      "Buzz\n",
      "41\n",
      "Fizz\n",
      "43\n",
      "44\n",
      "FizzBuzz\n",
      "46\n",
      "47\n",
      "Fizz\n",
      "49\n",
      "Buzz\n",
      "Fizz\n",
      "52\n",
      "53\n",
      "Fizz\n",
      "Buzz\n",
      "56\n",
      "Fizz\n",
      "58\n",
      "59\n",
      "FizzBuzz\n",
      "61\n",
      "62\n",
      "Fizz\n",
      "64\n",
      "Buzz\n",
      "Fizz\n",
      "67\n",
      "68\n",
      "Fizz\n",
      "Buzz\n",
      "71\n",
      "Fizz\n",
      "73\n",
      "74\n",
      "FizzBuzz\n",
      "76\n",
      "77\n",
      "Fizz\n",
      "79\n",
      "Buzz\n",
      "Fizz\n",
      "82\n",
      "83\n",
      "Fizz\n",
      "Buzz\n",
      "86\n",
      "Fizz\n",
      "88\n",
      "89\n",
      "FizzBuzz\n",
      "91\n",
      "92\n",
      "Fizz\n",
      "94\n",
      "Buzz\n",
      "Fizz\n",
      "97\n",
      "98\n",
      "Fizz\n",
      "Buzz\n"
     ]
    }
   ],
   "source": [
    "fizz_buzz_my_solution(100)"
   ]
  },
  {
   "cell_type": "markdown",
   "metadata": {},
   "source": [
    "But I was not carefull when reading the exercise, because we do not need to print out the other numbers (that's what you get for doing an exercize you done before in a slightly different version)\n"
   ]
  },
  {
   "cell_type": "code",
   "execution_count": 22,
   "metadata": {},
   "outputs": [],
   "source": [
    "def fizz_buzz(n):\n",
    "    for i in range(1,n + 1):\n",
    "        output = \"\"\n",
    "        if i % 3 == 0:\n",
    "            output += \"Fizz\"\n",
    "        if i % 5 == 0:\n",
    "            output += \"Buzz\"\n",
    "        if len(output) > 0:\n",
    "            print(f\"{i}: \\t\"+output)"
   ]
  },
  {
   "cell_type": "code",
   "execution_count": 23,
   "metadata": {},
   "outputs": [
    {
     "name": "stdout",
     "output_type": "stream",
     "text": [
      "3: \tFizz\n",
      "5: \tBuzz\n",
      "6: \tFizz\n",
      "9: \tFizz\n",
      "10: \tBuzz\n",
      "12: \tFizz\n",
      "15: \tFizzBuzz\n",
      "18: \tFizz\n",
      "20: \tBuzz\n",
      "21: \tFizz\n",
      "24: \tFizz\n",
      "25: \tBuzz\n",
      "27: \tFizz\n",
      "30: \tFizzBuzz\n",
      "33: \tFizz\n",
      "35: \tBuzz\n",
      "36: \tFizz\n",
      "39: \tFizz\n",
      "40: \tBuzz\n",
      "42: \tFizz\n",
      "45: \tFizzBuzz\n",
      "48: \tFizz\n",
      "50: \tBuzz\n",
      "51: \tFizz\n",
      "54: \tFizz\n",
      "55: \tBuzz\n",
      "57: \tFizz\n",
      "60: \tFizzBuzz\n",
      "63: \tFizz\n",
      "65: \tBuzz\n",
      "66: \tFizz\n",
      "69: \tFizz\n",
      "70: \tBuzz\n",
      "72: \tFizz\n",
      "75: \tFizzBuzz\n",
      "78: \tFizz\n",
      "80: \tBuzz\n",
      "81: \tFizz\n",
      "84: \tFizz\n",
      "85: \tBuzz\n",
      "87: \tFizz\n",
      "90: \tFizzBuzz\n",
      "93: \tFizz\n",
      "95: \tBuzz\n",
      "96: \tFizz\n",
      "99: \tFizz\n",
      "100: \tBuzz\n"
     ]
    }
   ],
   "source": [
    "fizz_buzz(100)"
   ]
  },
  {
   "cell_type": "code",
   "execution_count": null,
   "metadata": {},
   "outputs": [],
   "source": []
  }
 ],
 "metadata": {
  "kernelspec": {
   "display_name": "Python 3",
   "language": "python",
   "name": "python3"
  },
  "language_info": {
   "codemirror_mode": {
    "name": "ipython",
    "version": 3
   },
   "file_extension": ".py",
   "mimetype": "text/x-python",
   "name": "python",
   "nbconvert_exporter": "python",
   "pygments_lexer": "ipython3",
   "version": "3.8.3"
  }
 },
 "nbformat": 4,
 "nbformat_minor": 4
}

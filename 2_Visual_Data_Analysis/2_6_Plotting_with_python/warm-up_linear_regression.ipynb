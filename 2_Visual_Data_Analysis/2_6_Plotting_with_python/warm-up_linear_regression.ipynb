{
 "cells": [
  {
   "cell_type": "markdown",
   "metadata": {},
   "source": [
    "# Sort the lines of code "
   ]
  },
  {
   "cell_type": "code",
   "execution_count": 13,
   "metadata": {},
   "outputs": [],
   "source": [
    "import pandas as pd\n",
    "import numpy as np\n",
    "from matplotlib import pyplot as plt\n",
    "from sklearn.linear_model import LinearRegression"
   ]
  },
  {
   "cell_type": "markdown",
   "metadata": {},
   "source": [
    "### dataframe "
   ]
  },
  {
   "cell_type": "code",
   "execution_count": 83,
   "metadata": {},
   "outputs": [
    {
     "data": {
      "text/plain": [
       "1800    9.475635e+08\n",
       "1810    9.917285e+08\n",
       "1820    1.044587e+09\n",
       "1830    1.104342e+09\n",
       "1840    1.160231e+09\n",
       "dtype: float64"
      ]
     },
     "execution_count": 83,
     "metadata": {},
     "output_type": "execute_result"
    }
   ],
   "source": [
    "# read in the file \n",
    "pop = pd.read_excel('../data/gapminder_population.xlsx', index_col=0)\n",
    "\n",
    "# sum up the world population for each year\n",
    "# this also transposes the DataFrame \n",
    "pop = pop.sum()\n",
    "\n",
    "# make the year index into integer \n",
    "pop.index = pop.index.astype(int)\n",
    "\n",
    "pop.head()"
   ]
  },
  {
   "cell_type": "code",
   "execution_count": 84,
   "metadata": {},
   "outputs": [],
   "source": [
    "# make a logarithmic dataframe \n",
    "logpop = np.log(pop)\n",
    "\n",
    "# remove all empty lines \n",
    "logpop.dropna(inplace=True)"
   ]
  },
  {
   "cell_type": "code",
   "execution_count": 85,
   "metadata": {},
   "outputs": [],
   "source": [
    "# set the function m \n",
    "m = LinearRegression()\n",
    "\n",
    "# read in the values for X and y from the logpop\n",
    "X = logpop.index.values.reshape(-1, 1)\n",
    "y = logpop.values"
   ]
  },
  {
   "cell_type": "code",
   "execution_count": 86,
   "metadata": {},
   "outputs": [],
   "source": [
    "# fit the linear Regression to the data\n",
    "m.fit(X, y)\n",
    "\n",
    "# set y to the predicted value by m.predict\n",
    "ypred = m.predict(X)\n",
    "\n",
    "# generate future data points and predict population \n",
    "xfuture = [[2020], [2030]]\n",
    "yfuture = m.predict(xfuture)\n",
    "yfuture = np.exp(yfuture) / 1000_000_000"
   ]
  },
  {
   "cell_type": "code",
   "execution_count": 87,
   "metadata": {},
   "outputs": [
    {
     "name": "stdout",
     "output_type": "stream",
     "text": [
      "population forecast for [2020]:   7.5 bln\n",
      "population forecast for [2030]:   8.4 bln\n"
     ]
    }
   ],
   "source": [
    "# print the future population for the forcasted years \n",
    "for year, forecast in zip(xfuture, yfuture):\n",
    "    print(f\"population forecast for {year}: {forecast:5.1f} bln\")"
   ]
  },
  {
   "cell_type": "code",
   "execution_count": 88,
   "metadata": {},
   "outputs": [
    {
     "data": {
      "image/png": "[encoded data removed]",
      "text/plain": [
       "<Figure size 432x288 with 1 Axes>"
      ]
     },
     "metadata": {
      "needs_background": "light"
     },
     "output_type": "display_data"
    },
    {
     "name": "stdout",
     "output_type": "stream",
     "text": [
      "intercept:  0.17742100520356985\n",
      "slope    :  0.011169374984631445\n",
      "R-squared:  0.9485144752289159\n"
     ]
    }
   ],
   "source": [
    "# plot the data and the predicted linear regression \n",
    "plt.plot(X, y)\n",
    "plt.plot(X, ypred)\n",
    "plt.show()\n",
    "\n",
    "print(\"intercept: \", m.intercept_)\n",
    "print(\"slope    : \", m.coef_[0])\n",
    "print(\"R-squared: \", m.score(X, y))\n"
   ]
  }
 ],
 "metadata": {
  "kernelspec": {
   "display_name": "Python 3",
   "language": "python",
   "name": "python3"
  },
  "language_info": {
   "codemirror_mode": {
    "name": "ipython",
    "version": 3
   },
   "file_extension": ".py",
   "mimetype": "text/x-python",
   "name": "python",
   "nbconvert_exporter": "python",
   "pygments_lexer": "ipython3",
   "version": "3.8.3"
  }
 },
 "nbformat": 4,
 "nbformat_minor": 4
}

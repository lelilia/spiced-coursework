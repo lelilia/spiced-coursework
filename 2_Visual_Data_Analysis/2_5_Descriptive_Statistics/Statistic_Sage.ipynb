{
 "cells": [
  {
   "cell_type": "markdown",
   "metadata": {},
   "source": [
    "# Descriptive Statistics\n"
   ]
  },
  {
   "cell_type": "markdown",
   "metadata": {},
   "source": [
    "![](descriptive_stats.png)"
   ]
  },
  {
   "cell_type": "markdown",
   "metadata": {},
   "source": [
    "\n",
    "## Statistics\n",
    "\n",
    "Statistics is a set of methods and measures that deal with collecting, cleaning and analyzing a dataset and making quantitative statements about the population.\n",
    "\n",
    "## Population\n",
    "\n",
    "A population is a group of \"all individuals, objects, or measurements whose properties are being studied\" - https://openstax.org/books/introductory-statistics/pages/1-key-terms\n",
    "\n",
    "## Sample\n",
    "\n",
    "A sample is a subset of the population. Preferrably it is a random subset.\n",
    "\n",
    "## Variable\n",
    "\n",
    "\"A characteristic of interest for each person or object in a population\" - https://openstax.org/books/introductory-statistics/pages/1-key-terms\n",
    "\n",
    "## Random Variable\n",
    "\n",
    "A variable whose value is determined by a random process.\n",
    "\n",
    "## Descriptive Statistics\n",
    "\n",
    "- A set of methods and measures to describe a dataset.\n",
    "\n",
    "- There is no uncertainty in descriptive statistics! It is not based on any theory of probability.\n",
    "\n",
    "Before we dive into the most widely used measures, let's have a look at the type of variables that we encounter in datasets.\n",
    "\n",
    "Image on: https://bolt.mph.ufl.edu/6050-6052/unit-4/\n",
    "\n",
    "### Categorical, Ordinal and Metric Variables\n",
    "\n",
    "#### Categorical Variables\n",
    "\n",
    "The values of categorical variables (also called nominal variables) do not have a natural ordering.\n",
    "\n",
    "#### Ordinal Variables\n",
    "\n",
    "The values of ordinal variables have a natural ordering. However, the difference between the values is not measurable.\n",
    "\n",
    "#### Metric Variables\n",
    "\n",
    "The values of metric variables have a natural ordering and the distance between two values is measurable.\n",
    "\n",
    "### Discrete vs. Continuous Variables\n",
    "\n",
    "#### Discrete Variables\n",
    "\n",
    "The values of a discrete variable are countable. They can be finite or infinite.\n",
    "\n",
    "#### Continuous Variables\n",
    "\n",
    "The values of a continuous variable are uncountable."
   ]
  },
  {
   "cell_type": "markdown",
   "metadata": {},
   "source": [
    "---"
   ]
  },
  {
   "cell_type": "markdown",
   "metadata": {},
   "source": [
    "# Challenge! Match the statistical method with their pandas function"
   ]
  },
  {
   "cell_type": "code",
   "execution_count": 9,
   "metadata": {},
   "outputs": [],
   "source": [
    "import pandas as pd \n",
    "import numpy as np\n",
    "import matplotlib.pyplot as plt"
   ]
  },
  {
   "cell_type": "markdown",
   "metadata": {},
   "source": [
    "### calculates median of a column"
   ]
  },
  {
   "cell_type": "code",
   "execution_count": null,
   "metadata": {},
   "outputs": [],
   "source": [
    "pd.Series.median()"
   ]
  },
  {
   "cell_type": "markdown",
   "metadata": {},
   "source": [
    "### calculates arithmetic mean of a column"
   ]
  },
  {
   "cell_type": "code",
   "execution_count": null,
   "metadata": {},
   "outputs": [],
   "source": [
    "pd.Series.mean()"
   ]
  },
  {
   "cell_type": "markdown",
   "metadata": {},
   "source": [
    "### calculates a (relative) contingency/cross table for two columns"
   ]
  },
  {
   "cell_type": "code",
   "execution_count": null,
   "metadata": {},
   "outputs": [],
   "source": [
    "pd.crosstab()"
   ]
  },
  {
   "cell_type": "code",
   "execution_count": null,
   "metadata": {},
   "outputs": [],
   "source": [
    "pd.Series.var()"
   ]
  },
  {
   "cell_type": "markdown",
   "metadata": {},
   "source": [
    "### create a (relative) frequency tables for a column"
   ]
  },
  {
   "cell_type": "code",
   "execution_count": null,
   "metadata": {},
   "outputs": [],
   "source": [
    "pd.Series.value_counts()"
   ]
  },
  {
   "cell_type": "markdown",
   "metadata": {},
   "source": [
    "### calculates quantiles of a column"
   ]
  },
  {
   "cell_type": "code",
   "execution_count": null,
   "metadata": {},
   "outputs": [],
   "source": [
    "pd.Series.quantile()"
   ]
  },
  {
   "cell_type": "markdown",
   "metadata": {},
   "source": [
    "### calculates correlation between two columns"
   ]
  },
  {
   "cell_type": "code",
   "execution_count": null,
   "metadata": {},
   "outputs": [],
   "source": [
    "pd.Series.corr()"
   ]
  },
  {
   "cell_type": "markdown",
   "metadata": {},
   "source": [
    "### calculates the minimum of a column"
   ]
  },
  {
   "cell_type": "code",
   "execution_count": null,
   "metadata": {},
   "outputs": [],
   "source": [
    "pd.Series.min()"
   ]
  },
  {
   "cell_type": "markdown",
   "metadata": {},
   "source": [
    "###  calculates various descriptive statistics for each column"
   ]
  },
  {
   "cell_type": "code",
   "execution_count": null,
   "metadata": {},
   "outputs": [],
   "source": [
    "pd.DataFrame.describe()"
   ]
  },
  {
   "cell_type": "markdown",
   "metadata": {},
   "source": [
    "---"
   ]
  },
  {
   "cell_type": "markdown",
   "metadata": {},
   "source": [
    "### Measures of Central Tendency/Location\n",
    "\n",
    "Measures of central tendency are concerned with the question what a typical value of the variable is.\n",
    "\n",
    "#### Mean\n",
    "\n",
    "- Arithmetic mean: \n",
    "$\\frac{\\sum_{i=1}^n x_i}{n}$\n",
    "\n",
    "\n",
    "- Weighted arithmetic mean - average of grouped/weighted series\n",
    "$\\frac{w_1*x_1 + w_2*x_2 + ... + w_n*x_n}{n}$\n",
    "\n",
    "\n",
    "- Geometric mean - average of multiplicative series\n",
    "$\\sqrt[n]{\\prod_{i=1}^n x_i}$\n",
    "\n",
    "\n",
    "Where $w_i$ is the weight assigned to the $i_{th}$ observation of x.\n",
    "\n",
    "**Why do we concern ourselves with different concepts of the mean?**\n",
    "\n",
    "#### Median\n",
    "\n",
    "The value that divides the sample into two groups of equal size. The probability of observing a value larger than the median and the probability of observing a value smaller than the median in the sample are 50% each.\n",
    "\n",
    "#### Mode\n",
    "\n",
    "The Mode of a variable is the value that occurs most often in the dataset.\n",
    "\n",
    "**Why do we concern ourselves with different concepts of centrality?**\n",
    "\n",
    "http://krspiced.pythonanywhere.com/chapters/appendix/ethics_in_data_science/statistical_pitfalls/README.html\n",
    "\n",
    "If the distribution is symmetrical, the measures of central tendency are equal.\n",
    "\n",
    "### Measures of Dispersion (or Variability)\n",
    "\n",
    "Measures of dispersion are concerned with the question how far the values of the variable diverge from the measures of central tendency.\n",
    "\n",
    "#### Median Average Deviation (MAD)\n",
    "\n",
    "median($|x_i - \\bar{x}|$)\n",
    "\n",
    "#### Variance\n",
    "\n",
    "$\\frac{\\sum_{i=1}^n (x_i - \\overline{x})^2}{n}$\n",
    "\n",
    "#### Standard Deviation\n",
    "\n",
    "$\\sqrt{Variance}$\n",
    "\n",
    "#### Quantile\n",
    "\n",
    "A generalization of the concept of the median. The q-Quantile of the variable are those values that divide the sample into q groups of equal size. One commonly used Quantile is the 4-Quantile or Quartile, which divides the sample into 4 groups of equal size.\n",
    "\n",
    "Other commonly used Quantiles are Quintiles (5-Quantiles) and Percentiles (100-Quantiles).\n",
    "\n",
    "#### Minimum\n",
    "\n",
    "#### Maximum\n",
    "\n",
    "#### Range\n",
    "\n",
    "$Maximum - Minimum$\n",
    "\n",
    "#### Inter-Quartil-Range (IQR)\n",
    "\n",
    "$Q_{0.75} - Q_{0.25}$\n",
    "\n",
    "#### Boxplot\n",
    "\n",
    "A visual representation of the variability.\n",
    "\n",
    "### Measures of Symmetry and Curvature\n",
    "\n",
    "#### Skewness\n",
    "\n",
    "$\\frac{1}{n}*\\frac{\\sum_{i=1}^n (x_i - \\overline{x})^3}{Variance^{3/2}}$\n",
    "\n",
    "#### Kurtosis\n",
    "\n",
    "$\\frac{1}{n}*\\frac{\\sum_{i=1}^n (x_i - \\overline{x})^4}{Variance^2}$"
   ]
  },
  {
   "cell_type": "markdown",
   "metadata": {},
   "source": [
    "---"
   ]
  },
  {
   "cell_type": "markdown",
   "metadata": {},
   "source": [
    "### Try to apply this to a new dataset\n",
    "* Go through each feature and look at their descriptive stats"
   ]
  },
  {
   "cell_type": "code",
   "execution_count": 5,
   "metadata": {},
   "outputs": [],
   "source": [
    "path = 'path_to_penguins'\n",
    "df = pd.read_csv(path, sep=';')"
   ]
  },
  {
   "cell_type": "markdown",
   "metadata": {},
   "source": [
    "---"
   ]
  }
 ],
 "metadata": {
  "kernelspec": {
   "display_name": "Python 3",
   "language": "python",
   "name": "python3"
  },
  "language_info": {
   "codemirror_mode": {
    "name": "ipython",
    "version": 3
   },
   "file_extension": ".py",
   "mimetype": "text/x-python",
   "name": "python",
   "nbconvert_exporter": "python",
   "pygments_lexer": "ipython3",
   "version": "3.8.3"
  }
 },
 "nbformat": 4,
 "nbformat_minor": 4
}
